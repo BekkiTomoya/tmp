{
 "cells": [
  {
   "cell_type": "code",
   "execution_count": 9,
   "metadata": {},
   "outputs": [],
   "source": [
    "#インポート\n",
    "from bs4 import BeautifulSoup as bs\n",
    "import re\n",
    "import time\n",
    "import os\n",
    "import sys\n",
    "import json\n",
    "import pandas as pd\n",
    "import numpy as np\n",
    "import pickle\n",
    "import unicodedata\n",
    "\n",
    "import vertexai\n",
    "import vertexai.generative_models as genai\n",
    "from vertexai.generative_models import GenerativeModel, Part, GenerationConfig\n",
    "import json\n",
    "import time\n",
    "import os\n",
    "import pandas as pd\n",
    "import numpy as np \n",
    "from dotenv import load_dotenv\n",
    "load_dotenv(verbose=True)\n",
    "\n",
    "os.environ[\"GOOGLE_APPLICATION_CREDENTIALS\"] = \"../../../input/mtec-unstructured-data-390708-c264fdc6ca7a.json\"\n",
    "vertexai.init()\n",
    "# モデルの準備\n",
    "gemini = genai.GenerativeModel(\"models/gemini-1.5-flash\")\n",
    "\n",
    "from pydantic import BaseModel, Field\n",
    "from openai import AzureOpenAI\n",
    "engine='gpt-4o-mini'\n",
    "gpt = AzureOpenAI(\n",
    "    api_key=os.environ.get(\"OPENAI_API_KEY\"),  \n",
    "    api_version=\"2023-12-01-preview\",\n",
    "    azure_endpoint=os.environ.get(\"OPENAI_ENDPOINT\"),\n",
    ")"
   ]
  },
  {
   "cell_type": "code",
   "execution_count": 10,
   "metadata": {},
   "outputs": [],
   "source": [
    "def load_data(path):\n",
    "    with open(path, 'rb') as f:\n",
    "        data = pd.DataFrame().from_dict(json.load(f)).T.reset_index(names=\"question_number\")\n",
    "        f.close()\n",
    "    return data"
   ]
  },
  {
   "cell_type": "code",
   "execution_count": 11,
   "metadata": {},
   "outputs": [],
   "source": [
    "df_train = load_data(\"../train/questions.json\")\n",
    "df_train['flag'] = 'train'\n",
    "df_eval = load_data(\"../valid/questions.json\")\n",
    "df_eval['flag'] = 'valid'\n",
    "df_test = load_data(\"../test/questions.json\")\n",
    "df_test['flag'] = 'test'\n",
    "df = pd.concat([df_train, df_eval, df_test], axis=0)"
   ]
  },
  {
   "cell_type": "code",
   "execution_count": 12,
   "metadata": {},
   "outputs": [],
   "source": [
    "def create_toc(flag, doc_id):\n",
    "    path = f\"../{flag}/reports/{doc_id}\"\n",
    "    file_lst = os.listdir(path)\n",
    "    toc = {}\n",
    "    for file in file_lst:\n",
    "        with open(f\"{path}/{file}\", \"r\") as f:\n",
    "            html = f.read()\n",
    "            f.close()\n",
    "        soup = bs(html, 'html.parser')\n",
    "        tables = soup.find_all(\"table\") \n",
    "        for table in tables:\n",
    "            header = table.find_parent().find_previous_sibling(['h1', 'h2', 'h3', 'h4','h5','h6'])\n",
    "            if header:\n",
    "                text = unicodedata.normalize('NFKC', header.text).replace('\\n', '').replace(' ', '')\n",
    "                toc[table.get('table-id')] = text\n",
    "            else:\n",
    "                try:\n",
    "                    toc[table.get('table-id')] = text\n",
    "                except:\n",
    "                    toc[table.get('table-id')] = None\n",
    "    return toc"
   ]
  },
  {
   "cell_type": "code",
   "execution_count": null,
   "metadata": {},
   "outputs": [],
   "source": [
    "\n",
    "toc_dct = {}\n",
    "for index, row in df.drop_duplicates(subset='doc_id', ).iterrows():\n",
    "    toc = create_toc(row['flag'], row['doc_id'])\n",
    "    toc_dct[row['doc_id']] = toc"
   ]
  },
  {
   "cell_type": "code",
   "execution_count": 15,
   "metadata": {},
   "outputs": [],
   "source": [
    "with open('toc_dct.json', 'w') as f:\n",
    "    json.dump(toc_dct, f, indent=4) "
   ]
  },
  {
   "cell_type": "code",
   "execution_count": 95,
   "metadata": {},
   "outputs": [],
   "source": [
    "class TQAtast():\n",
    "    def __init__(self, question, doc_id, flag, train_dct=train_dct):\n",
    "        self.question = unicodedata.normalize('NFKC', question)\n",
    "        self.doc_id = doc_id\n",
    "        self.flag = flag\n",
    "        self.file_path = f'../{self.flag}/reports/{self.doc_id}/'\n",
    "        self.train_dct   = train_dct \n",
    "    \n",
    "    def get_words(self,):\n",
    "        if re.search(r\"「(.*)」\", self.question):\n",
    "            words = re.search(r\"「(.*)」\", self.question).group(1)\n",
    "            words = re.sub(r\"\\(.*\\)\", '', words)\n",
    "            print(words)\n",
    "            words = re.split(r\"、|-|又は|及び\", words)\n",
    "            words = [word for word in words if word != '']\n",
    "\n",
    "    \n",
    "        if '個別' in self.question:\n",
    "            words.append('個別')\n",
    "        elif '連結' in self.question:\n",
    "            words.append('連結')\n",
    "        return words\n",
    "    \n",
    "    def related_tables(self,):\n",
    "        words = self.get_words()\n",
    "        with open('toc_dct.json', 'r') as f:\n",
    "            toc_dct = json.load(f)\n",
    "        max_related_item = max(self.train_dct, key=lambda item: sum(word in item['question'] for word in words)) \n",
    "        my_toc = self.create_toc(self.flag, self.doc_id)\n",
    "        return toc, my_toc \n"
   ]
  },
  {
   "cell_type": "code",
   "execution_count": 96,
   "metadata": {},
   "outputs": [
    {
     "name": "stdout",
     "output_type": "stream",
     "text": [
      "当期純利益又は当期純損失、経営指標等\n"
     ]
    },
    {
     "ename": "FileNotFoundError",
     "evalue": "[Errno 2] No such file or directory: '../eval/reports/S100TUGR-0101010-tab3'",
     "output_type": "error",
     "traceback": [
      "\u001b[0;31m---------------------------------------------------------------------------\u001b[0m",
      "\u001b[0;31mFileNotFoundError\u001b[0m                         Traceback (most recent call last)",
      "Cell \u001b[0;32mIn[96], line 3\u001b[0m\n\u001b[1;32m      1\u001b[0m row \u001b[38;5;241m=\u001b[39m df_eval\u001b[38;5;241m.\u001b[39miloc[\u001b[38;5;241m1\u001b[39m]\n\u001b[1;32m      2\u001b[0m task \u001b[38;5;241m=\u001b[39m TQAtast(row[\u001b[38;5;124m'\u001b[39m\u001b[38;5;124mquestion\u001b[39m\u001b[38;5;124m'\u001b[39m], row[\u001b[38;5;124m'\u001b[39m\u001b[38;5;124mtable_id\u001b[39m\u001b[38;5;124m'\u001b[39m], row[\u001b[38;5;124m'\u001b[39m\u001b[38;5;124mflag\u001b[39m\u001b[38;5;124m'\u001b[39m])\n\u001b[0;32m----> 3\u001b[0m related_tables \u001b[38;5;241m=\u001b[39m \u001b[43mtask\u001b[49m\u001b[38;5;241;43m.\u001b[39;49m\u001b[43mrelated_tables\u001b[49m\u001b[43m(\u001b[49m\u001b[43m)\u001b[49m\n\u001b[1;32m      4\u001b[0m \u001b[38;5;28mprint\u001b[39m(row[\u001b[38;5;124m'\u001b[39m\u001b[38;5;124mquestion\u001b[39m\u001b[38;5;124m'\u001b[39m])\n\u001b[1;32m      5\u001b[0m \u001b[38;5;28mprint\u001b[39m(related_tables)\n",
      "Cell \u001b[0;32mIn[95], line 45\u001b[0m, in \u001b[0;36mTQAtast.related_tables\u001b[0;34m(self)\u001b[0m\n\u001b[1;32m     42\u001b[0m max_related_item \u001b[38;5;241m=\u001b[39m \u001b[38;5;28mmax\u001b[39m(\u001b[38;5;28mself\u001b[39m\u001b[38;5;241m.\u001b[39mtrain_dct, key\u001b[38;5;241m=\u001b[39m\u001b[38;5;28;01mlambda\u001b[39;00m item: \u001b[38;5;28msum\u001b[39m(word \u001b[38;5;129;01min\u001b[39;00m item[\u001b[38;5;124m'\u001b[39m\u001b[38;5;124mquestion\u001b[39m\u001b[38;5;124m'\u001b[39m] \u001b[38;5;28;01mfor\u001b[39;00m word \u001b[38;5;129;01min\u001b[39;00m words))\n\u001b[1;32m     44\u001b[0m toc \u001b[38;5;241m=\u001b[39m \u001b[38;5;28mself\u001b[39m\u001b[38;5;241m.\u001b[39mcreate_toc(\u001b[38;5;124m'\u001b[39m\u001b[38;5;124mtrain\u001b[39m\u001b[38;5;124m'\u001b[39m, max_related_item[\u001b[38;5;124m'\u001b[39m\u001b[38;5;124mtable_id\u001b[39m\u001b[38;5;124m'\u001b[39m]\u001b[38;5;241m.\u001b[39msplit(\u001b[38;5;124m'\u001b[39m\u001b[38;5;124m-\u001b[39m\u001b[38;5;124m'\u001b[39m)[\u001b[38;5;241m0\u001b[39m])  \n\u001b[0;32m---> 45\u001b[0m my_toc \u001b[38;5;241m=\u001b[39m \u001b[38;5;28;43mself\u001b[39;49m\u001b[38;5;241;43m.\u001b[39;49m\u001b[43mcreate_toc\u001b[49m\u001b[43m(\u001b[49m\u001b[38;5;28;43mself\u001b[39;49m\u001b[38;5;241;43m.\u001b[39;49m\u001b[43mflag\u001b[49m\u001b[43m,\u001b[49m\u001b[43m \u001b[49m\u001b[38;5;28;43mself\u001b[39;49m\u001b[38;5;241;43m.\u001b[39;49m\u001b[43mdoc_id\u001b[49m\u001b[43m)\u001b[49m\n\u001b[1;32m     46\u001b[0m \u001b[38;5;28;01mreturn\u001b[39;00m toc, my_toc\n",
      "Cell \u001b[0;32mIn[95], line 26\u001b[0m, in \u001b[0;36mTQAtast.create_toc\u001b[0;34m(self, flag, doc_id)\u001b[0m\n\u001b[1;32m     24\u001b[0m \u001b[38;5;28;01mdef\u001b[39;00m \u001b[38;5;21mcreate_toc\u001b[39m(\u001b[38;5;28mself\u001b[39m, flag, doc_id):\n\u001b[1;32m     25\u001b[0m     path \u001b[38;5;241m=\u001b[39m \u001b[38;5;124mf\u001b[39m\u001b[38;5;124m\"\u001b[39m\u001b[38;5;124m../\u001b[39m\u001b[38;5;132;01m{\u001b[39;00mflag\u001b[38;5;132;01m}\u001b[39;00m\u001b[38;5;124m/reports/\u001b[39m\u001b[38;5;132;01m{\u001b[39;00mdoc_id\u001b[38;5;132;01m}\u001b[39;00m\u001b[38;5;124m\"\u001b[39m\n\u001b[0;32m---> 26\u001b[0m     file_lst \u001b[38;5;241m=\u001b[39m \u001b[43mos\u001b[49m\u001b[38;5;241;43m.\u001b[39;49m\u001b[43mlistdir\u001b[49m\u001b[43m(\u001b[49m\u001b[43mpath\u001b[49m\u001b[43m)\u001b[49m\n\u001b[1;32m     27\u001b[0m     structure \u001b[38;5;241m=\u001b[39m {}\n\u001b[1;32m     28\u001b[0m     \u001b[38;5;28;01mfor\u001b[39;00m file \u001b[38;5;129;01min\u001b[39;00m file_lst:\n",
      "\u001b[0;31mFileNotFoundError\u001b[0m: [Errno 2] No such file or directory: '../eval/reports/S100TUGR-0101010-tab3'"
     ]
    }
   ],
   "source": [
    "row = df_eval.iloc[1]\n",
    "task = TQAtast(row['question'], row['table_id'], row['flag'])\n",
    "related_tables = task.related_tables()\n",
    "print(row['question'])\n",
    "print(related_tables)"
   ]
  },
  {
   "cell_type": "code",
   "execution_count": null,
   "metadata": {},
   "outputs": [],
   "source": []
  },
  {
   "cell_type": "code",
   "execution_count": null,
   "metadata": {},
   "outputs": [],
   "source": []
  }
 ],
 "metadata": {
  "kernelspec": {
   "display_name": "pytorch",
   "language": "python",
   "name": "python3"
  },
  "language_info": {
   "codemirror_mode": {
    "name": "ipython",
    "version": 3
   },
   "file_extension": ".py",
   "mimetype": "text/x-python",
   "name": "python",
   "nbconvert_exporter": "python",
   "pygments_lexer": "ipython3",
   "version": "3.10.14"
  }
 },
 "nbformat": 4,
 "nbformat_minor": 2
}
